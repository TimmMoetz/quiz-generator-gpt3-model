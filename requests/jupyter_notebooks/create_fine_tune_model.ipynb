{
 "cells": [
  {
   "cell_type": "markdown",
   "metadata": {},
   "source": [
    "create a fine openai model that is fine-tuned with your trainings file"
   ]
  },
  {
   "cell_type": "code",
   "execution_count": null,
   "metadata": {},
   "outputs": [],
   "source": [
    "import openai\n",
    "from key import key\n",
    "\n",
    "openai.api_key = key\n",
    "openai.FineTune.create(training_file=\"file-Sahh489PoPIcqmw9M8SRsq2g\")"
   ]
  }
 ],
 "metadata": {
  "language_info": {
   "name": "python"
  },
  "orig_nbformat": 4
 },
 "nbformat": 4,
 "nbformat_minor": 2
}
