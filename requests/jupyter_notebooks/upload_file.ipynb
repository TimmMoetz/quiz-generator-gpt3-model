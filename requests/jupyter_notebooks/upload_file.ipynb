{
 "cells": [
  {
   "cell_type": "markdown",
   "metadata": {},
   "source": [
    "use this command to upload your training data:\n",
    "```curl https://api.openai.com/v1/files -H \"Authorization: Bearer YOUR_OPENAI_KEY\" -F purpose=\"fine-tune\" -F file='@train.jsonl' ```"
   ]
  }
 ],
 "metadata": {
  "language_info": {
   "name": "python"
  },
  "orig_nbformat": 4
 },
 "nbformat": 4,
 "nbformat_minor": 2
}
