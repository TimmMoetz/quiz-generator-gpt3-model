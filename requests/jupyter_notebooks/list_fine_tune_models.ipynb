{
 "cells": [
  {
   "cell_type": "markdown",
   "metadata": {},
   "source": [
    "run this code to list all openai fine-tune models you created with your key"
   ]
  },
  {
   "cell_type": "code",
   "execution_count": null,
   "metadata": {},
   "outputs": [],
   "source": [
    "import openai\n",
    "from key import key\n",
    "\n",
    "openai.api_key = key\n",
    "print(openai.FineTune.list())\n"
   ]
  }
 ],
 "metadata": {
  "interpreter": {
   "hash": "3e786ecf9fdff519f38d91b5dc8dc4d683d47210fbd26ffbff60ec4981aa965d"
  },
  "kernelspec": {
   "display_name": "Python 3.9.4 64-bit",
   "language": "python",
   "name": "python3"
  },
  "language_info": {
   "codemirror_mode": {
    "name": "ipython",
    "version": 3
   },
   "file_extension": ".py",
   "mimetype": "text/x-python",
   "name": "python",
   "nbconvert_exporter": "python",
   "pygments_lexer": "ipython3",
   "version": "3.9.4"
  },
  "orig_nbformat": 4
 },
 "nbformat": 4,
 "nbformat_minor": 2
}
